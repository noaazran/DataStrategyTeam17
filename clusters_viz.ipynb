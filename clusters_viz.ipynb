{
 "cells": [
  {
   "cell_type": "code",
   "execution_count": 1,
   "metadata": {},
   "outputs": [],
   "source": [
    "import pandas as pd\n",
    "import matplotlib.pyplot as plt\n",
    "import seaborn as sns\n",
    "\n",
    "from sklearn.decomposition import PCA"
   ]
  },
  {
   "cell_type": "code",
   "execution_count": 2,
   "metadata": {},
   "outputs": [],
   "source": [
    "from src.clustering import *\n",
    "from src.full_df_preprocessing import *"
   ]
  },
  {
   "cell_type": "code",
   "execution_count": 3,
   "metadata": {},
   "outputs": [],
   "source": [
    "df_kmeans = pd.read_csv('data/kmeans_data.csv')"
   ]
  },
  {
   "cell_type": "code",
   "execution_count": 4,
   "metadata": {},
   "outputs": [],
   "source": [
    "datatypes = {\n",
    "    'product_id': 'uint32',\n",
    "    'client_id': 'uint32',\n",
    "    'sales_net': 'float64',\n",
    "    'quantity': 'int32',\n",
    "    'order_channel': 'object',\n",
    "    'branch_id': 'uint16',\n",
    "    'unit_price': 'int8',\n",
    "    'stock_flow': 'int8',\n",
    "    'month_order': 'uint8',\n",
    "    'order_invoice_delta': 'float16'\n",
    "}"
   ]
  },
  {
   "cell_type": "code",
   "execution_count": 5,
   "metadata": {},
   "outputs": [],
   "source": [
    "df = load_preprocessed_data(datatypes)"
   ]
  },
  {
   "cell_type": "code",
   "execution_count": 12,
   "metadata": {},
   "outputs": [],
   "source": [
    "df['cluster'] = df_kmeans['cluster'].astype('uint8')"
   ]
  },
  {
   "cell_type": "code",
   "execution_count": 14,
   "metadata": {},
   "outputs": [],
   "source": [
    "df.dropna(inplace=True)"
   ]
  },
  {
   "cell_type": "code",
   "execution_count": 17,
   "metadata": {},
   "outputs": [],
   "source": [
    "df.cluster = df.cluster.astype('uint8')"
   ]
  },
  {
   "cell_type": "code",
   "execution_count": 18,
   "metadata": {},
   "outputs": [
    {
     "name": "stdout",
     "output_type": "stream",
     "text": [
      "<class 'pandas.core.frame.DataFrame'>\n",
      "Int64Index: 63319313 entries, 0 to 63319313\n",
      "Data columns (total 11 columns):\n",
      " #   Column               Dtype  \n",
      "---  ------               -----  \n",
      " 0   product_id           uint32 \n",
      " 1   client_id            uint32 \n",
      " 2   sales_net            float64\n",
      " 3   quantity             int32  \n",
      " 4   order_channel        object \n",
      " 5   branch_id            uint16 \n",
      " 6   unit_price           int8   \n",
      " 7   stock_flow           int8   \n",
      " 8   month_order          uint8  \n",
      " 9   order_invoice_delta  float16\n",
      " 10  cluster              uint8  \n",
      "dtypes: float16(1), float64(1), int32(1), int8(2), object(1), uint16(1), uint32(2), uint8(2)\n",
      "memory usage: 2.6+ GB\n"
     ]
    }
   ],
   "source": [
    "df.info()"
   ]
  },
  {
   "cell_type": "code",
   "execution_count": null,
   "metadata": {},
   "outputs": [],
   "source": []
  }
 ],
 "metadata": {
  "interpreter": {
   "hash": "6b4ef7759bf5416c228daac630c4fe41a797d6552d8bf6195593ed72415e0adf"
  },
  "kernelspec": {
   "display_name": "Python 3.9.7 ('eleven')",
   "language": "python",
   "name": "python3"
  },
  "language_info": {
   "codemirror_mode": {
    "name": "ipython",
    "version": 3
   },
   "file_extension": ".py",
   "mimetype": "text/x-python",
   "name": "python",
   "nbconvert_exporter": "python",
   "pygments_lexer": "ipython3",
   "version": "3.9.7"
  },
  "orig_nbformat": 4
 },
 "nbformat": 4,
 "nbformat_minor": 2
}
