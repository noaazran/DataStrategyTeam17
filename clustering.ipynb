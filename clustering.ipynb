{
 "cells": [
  {
   "cell_type": "markdown",
   "metadata": {},
   "source": [
    "## Packages"
   ]
  },
  {
   "cell_type": "code",
   "execution_count": 1,
   "metadata": {},
   "outputs": [],
   "source": [
    "import os\n",
    "import numpy as np\n",
    "import pandas as pd\n",
    "\n",
    "from sklearn.cluster import KMeans"
   ]
  },
  {
   "cell_type": "code",
   "execution_count": 2,
   "metadata": {},
   "outputs": [],
   "source": [
    "from src.clustering import *"
   ]
  },
  {
   "cell_type": "markdown",
   "metadata": {},
   "source": [
    "## Data loading"
   ]
  },
  {
   "cell_type": "code",
   "execution_count": 3,
   "metadata": {},
   "outputs": [],
   "source": [
    "datatypes = {\n",
    "    'product_id': 'uint32',\n",
    "    'client_id': 'uint32',\n",
    "    'sales_net': 'float64',\n",
    "    'quantity': 'int32',\n",
    "    'order_channel': 'object',\n",
    "    'branch_id': 'uint16',\n",
    "    'unit_price': 'int8',\n",
    "    'stock_flow': 'int8',\n",
    "    'month_order': 'uint8',\n",
    "    'order_invoice_delta': 'float16'\n",
    "}"
   ]
  },
  {
   "cell_type": "code",
   "execution_count": 4,
   "metadata": {},
   "outputs": [
    {
     "name": "stdout",
     "output_type": "stream",
     "text": [
      "True\n"
     ]
    }
   ],
   "source": [
    "df = load_preprocessed_data(datatypes)\n",
    "print(df.shape[0] == 63319315)"
   ]
  },
  {
   "cell_type": "code",
   "execution_count": 5,
   "metadata": {},
   "outputs": [
    {
     "name": "stdout",
     "output_type": "stream",
     "text": [
      "<class 'pandas.core.frame.DataFrame'>\n",
      "RangeIndex: 63319315 entries, 0 to 63319314\n",
      "Data columns (total 10 columns):\n",
      " #   Column               Dtype  \n",
      "---  ------               -----  \n",
      " 0   product_id           uint32 \n",
      " 1   client_id            uint32 \n",
      " 2   sales_net            float64\n",
      " 3   quantity             int32  \n",
      " 4   order_channel        object \n",
      " 5   branch_id            uint16 \n",
      " 6   unit_price           int8   \n",
      " 7   stock_flow           int8   \n",
      " 8   month_order          uint8  \n",
      " 9   order_invoice_delta  float16\n",
      "dtypes: float16(1), float64(1), int32(1), int8(2), object(1), uint16(1), uint32(2), uint8(1)\n",
      "memory usage: 2.1+ GB\n"
     ]
    }
   ],
   "source": [
    "df.info()"
   ]
  },
  {
   "cell_type": "markdown",
   "metadata": {},
   "source": [
    "## Clustering"
   ]
  },
  {
   "cell_type": "code",
   "execution_count": 6,
   "metadata": {},
   "outputs": [],
   "source": [
    "df = categorical_encoding(df)"
   ]
  },
  {
   "cell_type": "code",
   "execution_count": 7,
   "metadata": {},
   "outputs": [],
   "source": [
    "df.dropna(inplace=True)"
   ]
  },
  {
   "cell_type": "code",
   "execution_count": 8,
   "metadata": {},
   "outputs": [
    {
     "data": {
      "text/plain": [
       "KMeans(init='random', max_iter=750, n_clusters=4, random_state=0)"
      ]
     },
     "execution_count": 8,
     "metadata": {},
     "output_type": "execute_result"
    }
   ],
   "source": [
    "kmeans_kwargs = {\n",
    "        \"init\": \"random\",\n",
    "        \"n_init\": 10,\n",
    "        \"max_iter\": 750,\n",
    "        \"random_state\": 0\n",
    "    }\n",
    "\n",
    "kmeans = KMeans(n_clusters=4, **kmeans_kwargs)\n",
    "kmeans.fit(df)"
   ]
  },
  {
   "cell_type": "code",
   "execution_count": 10,
   "metadata": {},
   "outputs": [],
   "source": [
    "df_kmeans = pd.DataFrame(kmeans.transform(df))\n",
    "df_kmeans.columns = [str(i) for i in range(4)]\n",
    "df_kmeans['cluster'] = kmeans.predict(df)"
   ]
  },
  {
   "cell_type": "code",
   "execution_count": 11,
   "metadata": {},
   "outputs": [
    {
     "data": {
      "text/html": [
       "<div>\n",
       "<style scoped>\n",
       "    .dataframe tbody tr th:only-of-type {\n",
       "        vertical-align: middle;\n",
       "    }\n",
       "\n",
       "    .dataframe tbody tr th {\n",
       "        vertical-align: top;\n",
       "    }\n",
       "\n",
       "    .dataframe thead th {\n",
       "        text-align: right;\n",
       "    }\n",
       "</style>\n",
       "<table border=\"1\" class=\"dataframe\">\n",
       "  <thead>\n",
       "    <tr style=\"text-align: right;\">\n",
       "      <th></th>\n",
       "      <th>0</th>\n",
       "      <th>1</th>\n",
       "      <th>2</th>\n",
       "      <th>3</th>\n",
       "      <th>cluster</th>\n",
       "    </tr>\n",
       "  </thead>\n",
       "  <tbody>\n",
       "    <tr>\n",
       "      <th>0</th>\n",
       "      <td>3.772637e+05</td>\n",
       "      <td>2.148597e+06</td>\n",
       "      <td>1.510704e+06</td>\n",
       "      <td>1.576281e+06</td>\n",
       "      <td>0</td>\n",
       "    </tr>\n",
       "    <tr>\n",
       "      <th>1</th>\n",
       "      <td>2.878323e+05</td>\n",
       "      <td>1.882430e+06</td>\n",
       "      <td>8.676014e+05</td>\n",
       "      <td>1.697803e+06</td>\n",
       "      <td>0</td>\n",
       "    </tr>\n",
       "    <tr>\n",
       "      <th>2</th>\n",
       "      <td>1.419991e+06</td>\n",
       "      <td>1.711950e+06</td>\n",
       "      <td>2.986247e+05</td>\n",
       "      <td>2.206342e+06</td>\n",
       "      <td>2</td>\n",
       "    </tr>\n",
       "    <tr>\n",
       "      <th>3</th>\n",
       "      <td>5.998821e+05</td>\n",
       "      <td>2.442448e+06</td>\n",
       "      <td>1.250739e+06</td>\n",
       "      <td>2.184108e+06</td>\n",
       "      <td>0</td>\n",
       "    </tr>\n",
       "    <tr>\n",
       "      <th>4</th>\n",
       "      <td>2.698694e+06</td>\n",
       "      <td>7.523988e+05</td>\n",
       "      <td>2.262473e+06</td>\n",
       "      <td>1.654547e+06</td>\n",
       "      <td>1</td>\n",
       "    </tr>\n",
       "  </tbody>\n",
       "</table>\n",
       "</div>"
      ],
      "text/plain": [
       "              0             1             2             3  cluster\n",
       "0  3.772637e+05  2.148597e+06  1.510704e+06  1.576281e+06        0\n",
       "1  2.878323e+05  1.882430e+06  8.676014e+05  1.697803e+06        0\n",
       "2  1.419991e+06  1.711950e+06  2.986247e+05  2.206342e+06        2\n",
       "3  5.998821e+05  2.442448e+06  1.250739e+06  2.184108e+06        0\n",
       "4  2.698694e+06  7.523988e+05  2.262473e+06  1.654547e+06        1"
      ]
     },
     "execution_count": 11,
     "metadata": {},
     "output_type": "execute_result"
    }
   ],
   "source": [
    "df_kmeans.head()"
   ]
  },
  {
   "cell_type": "code",
   "execution_count": 12,
   "metadata": {},
   "outputs": [],
   "source": [
    "df_kmeans.to_csv((os.path.join(\"data\", \"kmeans_data.csv\")))"
   ]
  }
 ],
 "metadata": {
  "interpreter": {
   "hash": "6b4ef7759bf5416c228daac630c4fe41a797d6552d8bf6195593ed72415e0adf"
  },
  "kernelspec": {
   "display_name": "Python 3.9.7 ('eleven')",
   "language": "python",
   "name": "python3"
  },
  "language_info": {
   "codemirror_mode": {
    "name": "ipython",
    "version": 3
   },
   "file_extension": ".py",
   "mimetype": "text/x-python",
   "name": "python",
   "nbconvert_exporter": "python",
   "pygments_lexer": "ipython3",
   "version": "3.9.7"
  },
  "orig_nbformat": 4
 },
 "nbformat": 4,
 "nbformat_minor": 2
}
