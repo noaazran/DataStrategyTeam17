{
 "cells": [
  {
   "cell_type": "markdown",
   "metadata": {},
   "source": [
    "# Use Case : churn rate"
   ]
  },
  {
   "cell_type": "code",
   "execution_count": 1,
   "metadata": {},
   "outputs": [],
   "source": [
    "import pandas as pd\n",
    "import os\n",
    "import seaborn as sns\n",
    "import numpy as np\n",
    "import warnings\n",
    "warnings.filterwarnings(\"ignore\")"
   ]
  },
  {
   "cell_type": "code",
   "execution_count": 2,
   "metadata": {},
   "outputs": [],
   "source": [
    "transactions = pd.read_csv(os.path.join(\"data\", \"client_history.csv\")).drop(columns=\"Unnamed: 0\")\n",
    "transactions[\"date_order\"] = pd.to_datetime(transactions[\"date_order\"])"
   ]
  },
  {
   "cell_type": "code",
   "execution_count": 3,
   "metadata": {},
   "outputs": [
    {
     "data": {
      "text/html": [
       "<div>\n",
       "<style scoped>\n",
       "    .dataframe tbody tr th:only-of-type {\n",
       "        vertical-align: middle;\n",
       "    }\n",
       "\n",
       "    .dataframe tbody tr th {\n",
       "        vertical-align: top;\n",
       "    }\n",
       "\n",
       "    .dataframe thead th {\n",
       "        text-align: right;\n",
       "    }\n",
       "</style>\n",
       "<table border=\"1\" class=\"dataframe\">\n",
       "  <thead>\n",
       "    <tr style=\"text-align: right;\">\n",
       "      <th></th>\n",
       "      <th>client_id</th>\n",
       "      <th>branch_id</th>\n",
       "      <th>date_order</th>\n",
       "      <th>order_invoice_delta</th>\n",
       "      <th>sales_net</th>\n",
       "      <th>quantity</th>\n",
       "      <th>past_lifetime_value</th>\n",
       "      <th>last_order</th>\n",
       "      <th>time_since_last</th>\n",
       "      <th>age</th>\n",
       "      <th>sales_net_growth_rate</th>\n",
       "      <th>churned</th>\n",
       "    </tr>\n",
       "  </thead>\n",
       "  <tbody>\n",
       "    <tr>\n",
       "      <th>0</th>\n",
       "      <td>585799</td>\n",
       "      <td>5274</td>\n",
       "      <td>2017-09-22</td>\n",
       "      <td>3</td>\n",
       "      <td>654.616800</td>\n",
       "      <td>12</td>\n",
       "      <td>654.616800</td>\n",
       "      <td>0</td>\n",
       "      <td>NaN</td>\n",
       "      <td>0</td>\n",
       "      <td>NaN</td>\n",
       "      <td>0</td>\n",
       "    </tr>\n",
       "    <tr>\n",
       "      <th>1</th>\n",
       "      <td>585799</td>\n",
       "      <td>5274</td>\n",
       "      <td>2017-09-25</td>\n",
       "      <td>0</td>\n",
       "      <td>753.348900</td>\n",
       "      <td>53</td>\n",
       "      <td>1407.965700</td>\n",
       "      <td>0</td>\n",
       "      <td>3.0</td>\n",
       "      <td>3</td>\n",
       "      <td>0.15</td>\n",
       "      <td>0</td>\n",
       "    </tr>\n",
       "    <tr>\n",
       "      <th>2</th>\n",
       "      <td>585799</td>\n",
       "      <td>5274</td>\n",
       "      <td>2017-09-27</td>\n",
       "      <td>0</td>\n",
       "      <td>151.666600</td>\n",
       "      <td>16</td>\n",
       "      <td>1559.632300</td>\n",
       "      <td>0</td>\n",
       "      <td>2.0</td>\n",
       "      <td>5</td>\n",
       "      <td>-0.80</td>\n",
       "      <td>0</td>\n",
       "    </tr>\n",
       "    <tr>\n",
       "      <th>3</th>\n",
       "      <td>585799</td>\n",
       "      <td>5274</td>\n",
       "      <td>2017-09-28</td>\n",
       "      <td>1</td>\n",
       "      <td>436.930989</td>\n",
       "      <td>975</td>\n",
       "      <td>1996.563289</td>\n",
       "      <td>0</td>\n",
       "      <td>1.0</td>\n",
       "      <td>6</td>\n",
       "      <td>1.88</td>\n",
       "      <td>0</td>\n",
       "    </tr>\n",
       "    <tr>\n",
       "      <th>4</th>\n",
       "      <td>585799</td>\n",
       "      <td>5274</td>\n",
       "      <td>2017-09-29</td>\n",
       "      <td>3</td>\n",
       "      <td>134.716980</td>\n",
       "      <td>41</td>\n",
       "      <td>2131.280269</td>\n",
       "      <td>0</td>\n",
       "      <td>1.0</td>\n",
       "      <td>7</td>\n",
       "      <td>-0.69</td>\n",
       "      <td>0</td>\n",
       "    </tr>\n",
       "  </tbody>\n",
       "</table>\n",
       "</div>"
      ],
      "text/plain": [
       "   client_id  branch_id date_order  order_invoice_delta   sales_net  quantity  \\\n",
       "0     585799       5274 2017-09-22                    3  654.616800        12   \n",
       "1     585799       5274 2017-09-25                    0  753.348900        53   \n",
       "2     585799       5274 2017-09-27                    0  151.666600        16   \n",
       "3     585799       5274 2017-09-28                    1  436.930989       975   \n",
       "4     585799       5274 2017-09-29                    3  134.716980        41   \n",
       "\n",
       "   past_lifetime_value  last_order  time_since_last  age  \\\n",
       "0           654.616800           0              NaN    0   \n",
       "1          1407.965700           0              3.0    3   \n",
       "2          1559.632300           0              2.0    5   \n",
       "3          1996.563289           0              1.0    6   \n",
       "4          2131.280269           0              1.0    7   \n",
       "\n",
       "   sales_net_growth_rate  churned  \n",
       "0                    NaN        0  \n",
       "1                   0.15        0  \n",
       "2                  -0.80        0  \n",
       "3                   1.88        0  \n",
       "4                  -0.69        0  "
      ]
     },
     "execution_count": 3,
     "metadata": {},
     "output_type": "execute_result"
    }
   ],
   "source": [
    "transactions.head()"
   ]
  },
  {
   "cell_type": "markdown",
   "metadata": {},
   "source": [
    "## 1. Define churn"
   ]
  },
  {
   "cell_type": "markdown",
   "metadata": {},
   "source": [
    "Feature ideas:\n",
    "\n",
    "- past lifetime value ✅\n",
    "- time since last purchase\n",
    "- frequency acceleration --> do \n",
    "- future lifetime value\n",
    "- is this the last purchase ✅\n",
    "- churn --> lost client (to define)"
   ]
  },
  {
   "cell_type": "code",
   "execution_count": 59,
   "metadata": {},
   "outputs": [],
   "source": [
    "client_transactions = transactions[transactions.client_id==585799]\n",
    "client_transactions.sort_values(by=\"date_order\", inplace=True)"
   ]
  },
  {
   "cell_type": "code",
   "execution_count": 60,
   "metadata": {},
   "outputs": [
    {
     "data": {
      "text/html": [
       "<div>\n",
       "<style scoped>\n",
       "    .dataframe tbody tr th:only-of-type {\n",
       "        vertical-align: middle;\n",
       "    }\n",
       "\n",
       "    .dataframe tbody tr th {\n",
       "        vertical-align: top;\n",
       "    }\n",
       "\n",
       "    .dataframe thead th {\n",
       "        text-align: right;\n",
       "    }\n",
       "</style>\n",
       "<table border=\"1\" class=\"dataframe\">\n",
       "  <thead>\n",
       "    <tr style=\"text-align: right;\">\n",
       "      <th></th>\n",
       "      <th>date_order</th>\n",
       "      <th>client_id</th>\n",
       "      <th>branch_id</th>\n",
       "      <th>sales_net</th>\n",
       "      <th>sales_net_growth_rate</th>\n",
       "      <th>past_lifetime_value</th>\n",
       "      <th>time_since_last</th>\n",
       "      <th>age</th>\n",
       "      <th>last_order</th>\n",
       "    </tr>\n",
       "  </thead>\n",
       "  <tbody>\n",
       "    <tr>\n",
       "      <th>0</th>\n",
       "      <td>2017-09-22</td>\n",
       "      <td>585799</td>\n",
       "      <td>5274</td>\n",
       "      <td>654.616800</td>\n",
       "      <td>NaN</td>\n",
       "      <td>654.616800</td>\n",
       "      <td>NaN</td>\n",
       "      <td>0</td>\n",
       "      <td>0</td>\n",
       "    </tr>\n",
       "    <tr>\n",
       "      <th>1</th>\n",
       "      <td>2017-09-25</td>\n",
       "      <td>585799</td>\n",
       "      <td>5274</td>\n",
       "      <td>753.348900</td>\n",
       "      <td>0.2</td>\n",
       "      <td>1407.965700</td>\n",
       "      <td>3.0</td>\n",
       "      <td>3</td>\n",
       "      <td>0</td>\n",
       "    </tr>\n",
       "    <tr>\n",
       "      <th>2</th>\n",
       "      <td>2017-09-27</td>\n",
       "      <td>585799</td>\n",
       "      <td>5274</td>\n",
       "      <td>151.666600</td>\n",
       "      <td>-0.8</td>\n",
       "      <td>1559.632300</td>\n",
       "      <td>2.0</td>\n",
       "      <td>5</td>\n",
       "      <td>0</td>\n",
       "    </tr>\n",
       "    <tr>\n",
       "      <th>3</th>\n",
       "      <td>2017-09-28</td>\n",
       "      <td>585799</td>\n",
       "      <td>5274</td>\n",
       "      <td>436.930989</td>\n",
       "      <td>1.9</td>\n",
       "      <td>1996.563289</td>\n",
       "      <td>1.0</td>\n",
       "      <td>6</td>\n",
       "      <td>0</td>\n",
       "    </tr>\n",
       "    <tr>\n",
       "      <th>4</th>\n",
       "      <td>2017-09-29</td>\n",
       "      <td>585799</td>\n",
       "      <td>5274</td>\n",
       "      <td>134.716980</td>\n",
       "      <td>-0.7</td>\n",
       "      <td>2131.280269</td>\n",
       "      <td>1.0</td>\n",
       "      <td>7</td>\n",
       "      <td>0</td>\n",
       "    </tr>\n",
       "    <tr>\n",
       "      <th>...</th>\n",
       "      <td>...</td>\n",
       "      <td>...</td>\n",
       "      <td>...</td>\n",
       "      <td>...</td>\n",
       "      <td>...</td>\n",
       "      <td>...</td>\n",
       "      <td>...</td>\n",
       "      <td>...</td>\n",
       "      <td>...</td>\n",
       "    </tr>\n",
       "    <tr>\n",
       "      <th>181</th>\n",
       "      <td>2019-09-06</td>\n",
       "      <td>585799</td>\n",
       "      <td>5274</td>\n",
       "      <td>191.709600</td>\n",
       "      <td>-0.9</td>\n",
       "      <td>136205.640969</td>\n",
       "      <td>2.0</td>\n",
       "      <td>714</td>\n",
       "      <td>0</td>\n",
       "    </tr>\n",
       "    <tr>\n",
       "      <th>182</th>\n",
       "      <td>2019-09-08</td>\n",
       "      <td>585799</td>\n",
       "      <td>5274</td>\n",
       "      <td>303.572400</td>\n",
       "      <td>0.6</td>\n",
       "      <td>136509.213369</td>\n",
       "      <td>2.0</td>\n",
       "      <td>716</td>\n",
       "      <td>0</td>\n",
       "    </tr>\n",
       "    <tr>\n",
       "      <th>183</th>\n",
       "      <td>2019-09-12</td>\n",
       "      <td>585799</td>\n",
       "      <td>5274</td>\n",
       "      <td>1754.805568</td>\n",
       "      <td>4.8</td>\n",
       "      <td>138264.018938</td>\n",
       "      <td>4.0</td>\n",
       "      <td>720</td>\n",
       "      <td>0</td>\n",
       "    </tr>\n",
       "    <tr>\n",
       "      <th>184</th>\n",
       "      <td>2019-09-16</td>\n",
       "      <td>585799</td>\n",
       "      <td>5274</td>\n",
       "      <td>465.435360</td>\n",
       "      <td>-0.7</td>\n",
       "      <td>138729.454298</td>\n",
       "      <td>4.0</td>\n",
       "      <td>724</td>\n",
       "      <td>0</td>\n",
       "    </tr>\n",
       "    <tr>\n",
       "      <th>185</th>\n",
       "      <td>2019-09-18</td>\n",
       "      <td>585799</td>\n",
       "      <td>5274</td>\n",
       "      <td>670.946187</td>\n",
       "      <td>0.4</td>\n",
       "      <td>139400.400484</td>\n",
       "      <td>2.0</td>\n",
       "      <td>726</td>\n",
       "      <td>1</td>\n",
       "    </tr>\n",
       "  </tbody>\n",
       "</table>\n",
       "<p>186 rows × 9 columns</p>\n",
       "</div>"
      ],
      "text/plain": [
       "    date_order  client_id  branch_id    sales_net  sales_net_growth_rate  \\\n",
       "0   2017-09-22     585799       5274   654.616800                    NaN   \n",
       "1   2017-09-25     585799       5274   753.348900                    0.2   \n",
       "2   2017-09-27     585799       5274   151.666600                   -0.8   \n",
       "3   2017-09-28     585799       5274   436.930989                    1.9   \n",
       "4   2017-09-29     585799       5274   134.716980                   -0.7   \n",
       "..         ...        ...        ...          ...                    ...   \n",
       "181 2019-09-06     585799       5274   191.709600                   -0.9   \n",
       "182 2019-09-08     585799       5274   303.572400                    0.6   \n",
       "183 2019-09-12     585799       5274  1754.805568                    4.8   \n",
       "184 2019-09-16     585799       5274   465.435360                   -0.7   \n",
       "185 2019-09-18     585799       5274   670.946187                    0.4   \n",
       "\n",
       "     past_lifetime_value  time_since_last  age  last_order  \n",
       "0             654.616800              NaN    0           0  \n",
       "1            1407.965700              3.0    3           0  \n",
       "2            1559.632300              2.0    5           0  \n",
       "3            1996.563289              1.0    6           0  \n",
       "4            2131.280269              1.0    7           0  \n",
       "..                   ...              ...  ...         ...  \n",
       "181        136205.640969              2.0  714           0  \n",
       "182        136509.213369              2.0  716           0  \n",
       "183        138264.018938              4.0  720           0  \n",
       "184        138729.454298              4.0  724           0  \n",
       "185        139400.400484              2.0  726           1  \n",
       "\n",
       "[186 rows x 9 columns]"
      ]
     },
     "execution_count": 60,
     "metadata": {},
     "output_type": "execute_result"
    }
   ],
   "source": [
    "client_transactions"
   ]
  },
  {
   "cell_type": "code",
   "execution_count": 49,
   "metadata": {},
   "outputs": [
    {
     "data": {
      "text/plain": [
       "Timestamp('2019-09-22 00:00:00')"
      ]
     },
     "execution_count": 49,
     "metadata": {},
     "output_type": "execute_result"
    }
   ],
   "source": [
    "transactions.date_order.max()"
   ]
  },
  {
   "cell_type": "code",
   "execution_count": 72,
   "metadata": {},
   "outputs": [
    {
     "data": {
      "text/plain": [
       "0    702859\n",
       "1       885\n",
       "Name: churned, dtype: int64"
      ]
     },
     "execution_count": 72,
     "metadata": {},
     "output_type": "execute_result"
    }
   ],
   "source": [
    "transactions.churned.value_counts()"
   ]
  },
  {
   "cell_type": "markdown",
   "metadata": {},
   "source": [
    "## 2. Real churn rate analysis"
   ]
  },
  {
   "cell_type": "code",
   "execution_count": 4,
   "metadata": {},
   "outputs": [
    {
     "data": {
      "text/plain": [
       "0    702859\n",
       "1       885\n",
       "Name: churned, dtype: int64"
      ]
     },
     "execution_count": 4,
     "metadata": {},
     "output_type": "execute_result"
    }
   ],
   "source": [
    "# After how many transactions did a ClientCo client churned\n",
    "transactions.churned.value_counts()"
   ]
  },
  {
   "cell_type": "markdown",
   "metadata": {},
   "source": [
    "## 3. Churn prediction model"
   ]
  },
  {
   "cell_type": "code",
   "execution_count": null,
   "metadata": {},
   "outputs": [],
   "source": []
  }
 ],
 "metadata": {
  "kernelspec": {
   "display_name": "env_cu",
   "language": "python",
   "name": "env_cu"
  },
  "language_info": {
   "codemirror_mode": {
    "name": "ipython",
    "version": 3
   },
   "file_extension": ".py",
   "mimetype": "text/x-python",
   "name": "python",
   "nbconvert_exporter": "python",
   "pygments_lexer": "ipython3",
   "version": "3.8.10"
  }
 },
 "nbformat": 4,
 "nbformat_minor": 2
}
