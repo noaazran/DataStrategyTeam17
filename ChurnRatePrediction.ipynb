{
 "cells": [
  {
   "cell_type": "markdown",
   "metadata": {},
   "source": [
    "# Use Case : churn rate"
   ]
  },
  {
   "cell_type": "code",
   "execution_count": 119,
   "metadata": {},
   "outputs": [],
   "source": [
    "import pandas as pd\n",
    "import os\n",
    "import seaborn as sns\n",
    "import numpy as np\n",
    "from sklearn.ensemble import GradientBoostingClassifier\n",
    "from sklearn.model_selection import train_test_split\n",
    "from sklearn.preprocessing import StandardScaler\n",
    "from sklearn.metrics import confusion_matrix\n",
    "import warnings\n",
    "warnings.filterwarnings(\"ignore\")"
   ]
  },
  {
   "cell_type": "code",
   "execution_count": 43,
   "metadata": {},
   "outputs": [],
   "source": [
    "transactions = pd.read_csv(os.path.join(\"data\", \"client_history.csv\")).drop(columns=\"Unnamed: 0\")\n",
    "transactions[\"date_order\"] = pd.to_datetime(transactions[\"date_order\"])"
   ]
  },
  {
   "cell_type": "code",
   "execution_count": 44,
   "metadata": {},
   "outputs": [
    {
     "data": {
      "text/html": [
       "<div>\n",
       "<style scoped>\n",
       "    .dataframe tbody tr th:only-of-type {\n",
       "        vertical-align: middle;\n",
       "    }\n",
       "\n",
       "    .dataframe tbody tr th {\n",
       "        vertical-align: top;\n",
       "    }\n",
       "\n",
       "    .dataframe thead th {\n",
       "        text-align: right;\n",
       "    }\n",
       "</style>\n",
       "<table border=\"1\" class=\"dataframe\">\n",
       "  <thead>\n",
       "    <tr style=\"text-align: right;\">\n",
       "      <th></th>\n",
       "      <th>client_id</th>\n",
       "      <th>branch_id</th>\n",
       "      <th>date_order</th>\n",
       "      <th>order_invoice_delta</th>\n",
       "      <th>sales_net</th>\n",
       "      <th>quantity</th>\n",
       "      <th>past_lifetime_value</th>\n",
       "      <th>last_order</th>\n",
       "      <th>time_since_last</th>\n",
       "      <th>age</th>\n",
       "      <th>sales_net_growth_rate</th>\n",
       "      <th>churned</th>\n",
       "    </tr>\n",
       "  </thead>\n",
       "  <tbody>\n",
       "    <tr>\n",
       "      <th>0</th>\n",
       "      <td>585799</td>\n",
       "      <td>5274</td>\n",
       "      <td>2017-09-25</td>\n",
       "      <td>0</td>\n",
       "      <td>753.348900</td>\n",
       "      <td>53</td>\n",
       "      <td>1407.965700</td>\n",
       "      <td>0</td>\n",
       "      <td>3.0</td>\n",
       "      <td>3</td>\n",
       "      <td>0.15</td>\n",
       "      <td>0</td>\n",
       "    </tr>\n",
       "    <tr>\n",
       "      <th>1</th>\n",
       "      <td>585799</td>\n",
       "      <td>5274</td>\n",
       "      <td>2017-09-27</td>\n",
       "      <td>0</td>\n",
       "      <td>151.666600</td>\n",
       "      <td>16</td>\n",
       "      <td>1559.632300</td>\n",
       "      <td>0</td>\n",
       "      <td>2.0</td>\n",
       "      <td>5</td>\n",
       "      <td>-0.80</td>\n",
       "      <td>0</td>\n",
       "    </tr>\n",
       "    <tr>\n",
       "      <th>2</th>\n",
       "      <td>585799</td>\n",
       "      <td>5274</td>\n",
       "      <td>2017-09-28</td>\n",
       "      <td>1</td>\n",
       "      <td>436.930989</td>\n",
       "      <td>975</td>\n",
       "      <td>1996.563289</td>\n",
       "      <td>0</td>\n",
       "      <td>1.0</td>\n",
       "      <td>6</td>\n",
       "      <td>1.88</td>\n",
       "      <td>0</td>\n",
       "    </tr>\n",
       "    <tr>\n",
       "      <th>3</th>\n",
       "      <td>585799</td>\n",
       "      <td>5274</td>\n",
       "      <td>2017-09-29</td>\n",
       "      <td>3</td>\n",
       "      <td>134.716980</td>\n",
       "      <td>41</td>\n",
       "      <td>2131.280269</td>\n",
       "      <td>0</td>\n",
       "      <td>1.0</td>\n",
       "      <td>7</td>\n",
       "      <td>-0.69</td>\n",
       "      <td>0</td>\n",
       "    </tr>\n",
       "    <tr>\n",
       "      <th>4</th>\n",
       "      <td>585799</td>\n",
       "      <td>5274</td>\n",
       "      <td>2017-10-04</td>\n",
       "      <td>0</td>\n",
       "      <td>761.844180</td>\n",
       "      <td>30</td>\n",
       "      <td>2893.124449</td>\n",
       "      <td>0</td>\n",
       "      <td>5.0</td>\n",
       "      <td>12</td>\n",
       "      <td>4.66</td>\n",
       "      <td>0</td>\n",
       "    </tr>\n",
       "  </tbody>\n",
       "</table>\n",
       "</div>"
      ],
      "text/plain": [
       "   client_id  branch_id date_order  order_invoice_delta   sales_net  quantity  \\\n",
       "0     585799       5274 2017-09-25                    0  753.348900        53   \n",
       "1     585799       5274 2017-09-27                    0  151.666600        16   \n",
       "2     585799       5274 2017-09-28                    1  436.930989       975   \n",
       "3     585799       5274 2017-09-29                    3  134.716980        41   \n",
       "4     585799       5274 2017-10-04                    0  761.844180        30   \n",
       "\n",
       "   past_lifetime_value  last_order  time_since_last  age  \\\n",
       "0          1407.965700           0              3.0    3   \n",
       "1          1559.632300           0              2.0    5   \n",
       "2          1996.563289           0              1.0    6   \n",
       "3          2131.280269           0              1.0    7   \n",
       "4          2893.124449           0              5.0   12   \n",
       "\n",
       "   sales_net_growth_rate  churned  \n",
       "0                   0.15        0  \n",
       "1                  -0.80        0  \n",
       "2                   1.88        0  \n",
       "3                  -0.69        0  \n",
       "4                   4.66        0  "
      ]
     },
     "execution_count": 44,
     "metadata": {},
     "output_type": "execute_result"
    }
   ],
   "source": [
    "transactions.head()"
   ]
  },
  {
   "cell_type": "markdown",
   "metadata": {},
   "source": [
    "## 1. Define churn"
   ]
  },
  {
   "cell_type": "code",
   "execution_count": 45,
   "metadata": {},
   "outputs": [],
   "source": [
    "## Integrated to the preprocessing script"
   ]
  },
  {
   "cell_type": "markdown",
   "metadata": {},
   "source": [
    "## 2. Real churn rate analysis"
   ]
  },
  {
   "cell_type": "code",
   "execution_count": 27,
   "metadata": {},
   "outputs": [
    {
     "data": {
      "text/plain": [
       "0    681210\n",
       "1       884\n",
       "Name: churned, dtype: int64"
      ]
     },
     "execution_count": 27,
     "metadata": {},
     "output_type": "execute_result"
    }
   ],
   "source": [
    "# After how many transactions did a ClientCo client churned ?\n",
    "transactions.churned.value_counts()"
   ]
  },
  {
   "cell_type": "code",
   "execution_count": 107,
   "metadata": {},
   "outputs": [],
   "source": [
    "clients = transactions.drop(columns=['quantity', 'last_order', 'date_order']).groupby(\n",
    "                              by=[\"client_id\", \"branch_id\"]).agg(max_delay = ('order_invoice_delta','max'),\n",
    "                                                                   average_sales_net = ('sales_net','mean'), \n",
    "                                                                   lifetime_value = ('past_lifetime_value','max'), \n",
    "                                                                   avg_time_between_orders = ('time_since_last','mean'), \n",
    "                                                                   lifespan_days = ('age','max'), \n",
    "                                                                   avg_growth_rate = ('sales_net_growth_rate','mean') , \n",
    "                                                                   churned = ('churned','max'))\n",
    "clients.reset_index(inplace=True)\n",
    "clients.replace([np.inf, -np.inf], np.nan, inplace=True)\n",
    "clients.dropna(inplace=True)\n"
   ]
  },
  {
   "cell_type": "code",
   "execution_count": 108,
   "metadata": {},
   "outputs": [
    {
     "data": {
      "text/html": [
       "<div>\n",
       "<style scoped>\n",
       "    .dataframe tbody tr th:only-of-type {\n",
       "        vertical-align: middle;\n",
       "    }\n",
       "\n",
       "    .dataframe tbody tr th {\n",
       "        vertical-align: top;\n",
       "    }\n",
       "\n",
       "    .dataframe thead th {\n",
       "        text-align: right;\n",
       "    }\n",
       "</style>\n",
       "<table border=\"1\" class=\"dataframe\">\n",
       "  <thead>\n",
       "    <tr style=\"text-align: right;\">\n",
       "      <th></th>\n",
       "      <th>client_id</th>\n",
       "      <th>branch_id</th>\n",
       "      <th>max_delay</th>\n",
       "      <th>average_sales_net</th>\n",
       "      <th>lifetime_value</th>\n",
       "      <th>avg_time_between_orders</th>\n",
       "      <th>lifespan_days</th>\n",
       "      <th>avg_growth_rate</th>\n",
       "      <th>churned</th>\n",
       "    </tr>\n",
       "  </thead>\n",
       "  <tbody>\n",
       "    <tr>\n",
       "      <th>1</th>\n",
       "      <td>18</td>\n",
       "      <td>6654</td>\n",
       "      <td>7</td>\n",
       "      <td>3822.830000</td>\n",
       "      <td>11284.494600</td>\n",
       "      <td>35.000000</td>\n",
       "      <td>35</td>\n",
       "      <td>-0.490000</td>\n",
       "      <td>0</td>\n",
       "    </tr>\n",
       "    <tr>\n",
       "      <th>2</th>\n",
       "      <td>373</td>\n",
       "      <td>228</td>\n",
       "      <td>8</td>\n",
       "      <td>257.665298</td>\n",
       "      <td>2354.936683</td>\n",
       "      <td>71.222222</td>\n",
       "      <td>641</td>\n",
       "      <td>3.582222</td>\n",
       "      <td>0</td>\n",
       "    </tr>\n",
       "    <tr>\n",
       "      <th>3</th>\n",
       "      <td>549</td>\n",
       "      <td>7993</td>\n",
       "      <td>123</td>\n",
       "      <td>865.219627</td>\n",
       "      <td>2723.633535</td>\n",
       "      <td>72.500000</td>\n",
       "      <td>145</td>\n",
       "      <td>-0.120000</td>\n",
       "      <td>0</td>\n",
       "    </tr>\n",
       "    <tr>\n",
       "      <th>4</th>\n",
       "      <td>753</td>\n",
       "      <td>364</td>\n",
       "      <td>1</td>\n",
       "      <td>270.611578</td>\n",
       "      <td>1221.216657</td>\n",
       "      <td>172.000000</td>\n",
       "      <td>688</td>\n",
       "      <td>0.407500</td>\n",
       "      <td>0</td>\n",
       "    </tr>\n",
       "    <tr>\n",
       "      <th>6</th>\n",
       "      <td>1066</td>\n",
       "      <td>3550</td>\n",
       "      <td>59</td>\n",
       "      <td>1270.203272</td>\n",
       "      <td>243004.221117</td>\n",
       "      <td>0.910995</td>\n",
       "      <td>174</td>\n",
       "      <td>1.957173</td>\n",
       "      <td>0</td>\n",
       "    </tr>\n",
       "    <tr>\n",
       "      <th>...</th>\n",
       "      <td>...</td>\n",
       "      <td>...</td>\n",
       "      <td>...</td>\n",
       "      <td>...</td>\n",
       "      <td>...</td>\n",
       "      <td>...</td>\n",
       "      <td>...</td>\n",
       "      <td>...</td>\n",
       "      <td>...</td>\n",
       "    </tr>\n",
       "    <tr>\n",
       "      <th>19091</th>\n",
       "      <td>2273653</td>\n",
       "      <td>4108</td>\n",
       "      <td>62</td>\n",
       "      <td>962.116656</td>\n",
       "      <td>25906.698242</td>\n",
       "      <td>11.192308</td>\n",
       "      <td>291</td>\n",
       "      <td>1.990000</td>\n",
       "      <td>0</td>\n",
       "    </tr>\n",
       "    <tr>\n",
       "      <th>19093</th>\n",
       "      <td>2274019</td>\n",
       "      <td>3353</td>\n",
       "      <td>7</td>\n",
       "      <td>408.120855</td>\n",
       "      <td>2473.932287</td>\n",
       "      <td>138.000000</td>\n",
       "      <td>552</td>\n",
       "      <td>0.120000</td>\n",
       "      <td>0</td>\n",
       "    </tr>\n",
       "    <tr>\n",
       "      <th>19094</th>\n",
       "      <td>2274156</td>\n",
       "      <td>4424</td>\n",
       "      <td>28</td>\n",
       "      <td>976.245912</td>\n",
       "      <td>72806.863095</td>\n",
       "      <td>9.675676</td>\n",
       "      <td>716</td>\n",
       "      <td>2.482568</td>\n",
       "      <td>0</td>\n",
       "    </tr>\n",
       "    <tr>\n",
       "      <th>19095</th>\n",
       "      <td>2274188</td>\n",
       "      <td>1857</td>\n",
       "      <td>14</td>\n",
       "      <td>1462.305592</td>\n",
       "      <td>4605.738776</td>\n",
       "      <td>164.666667</td>\n",
       "      <td>494</td>\n",
       "      <td>7.236667</td>\n",
       "      <td>0</td>\n",
       "    </tr>\n",
       "    <tr>\n",
       "      <th>19096</th>\n",
       "      <td>2274231</td>\n",
       "      <td>2708</td>\n",
       "      <td>8</td>\n",
       "      <td>658.674000</td>\n",
       "      <td>893.180773</td>\n",
       "      <td>1.000000</td>\n",
       "      <td>1</td>\n",
       "      <td>1.810000</td>\n",
       "      <td>0</td>\n",
       "    </tr>\n",
       "  </tbody>\n",
       "</table>\n",
       "<p>15994 rows × 9 columns</p>\n",
       "</div>"
      ],
      "text/plain": [
       "       client_id  branch_id  max_delay  average_sales_net  lifetime_value  \\\n",
       "1             18       6654          7        3822.830000    11284.494600   \n",
       "2            373        228          8         257.665298     2354.936683   \n",
       "3            549       7993        123         865.219627     2723.633535   \n",
       "4            753        364          1         270.611578     1221.216657   \n",
       "6           1066       3550         59        1270.203272   243004.221117   \n",
       "...          ...        ...        ...                ...             ...   \n",
       "19091    2273653       4108         62         962.116656    25906.698242   \n",
       "19093    2274019       3353          7         408.120855     2473.932287   \n",
       "19094    2274156       4424         28         976.245912    72806.863095   \n",
       "19095    2274188       1857         14        1462.305592     4605.738776   \n",
       "19096    2274231       2708          8         658.674000      893.180773   \n",
       "\n",
       "       avg_time_between_orders  lifespan_days  avg_growth_rate  churned  \n",
       "1                    35.000000             35        -0.490000        0  \n",
       "2                    71.222222            641         3.582222        0  \n",
       "3                    72.500000            145        -0.120000        0  \n",
       "4                   172.000000            688         0.407500        0  \n",
       "6                     0.910995            174         1.957173        0  \n",
       "...                        ...            ...              ...      ...  \n",
       "19091                11.192308            291         1.990000        0  \n",
       "19093               138.000000            552         0.120000        0  \n",
       "19094                 9.675676            716         2.482568        0  \n",
       "19095               164.666667            494         7.236667        0  \n",
       "19096                 1.000000              1         1.810000        0  \n",
       "\n",
       "[15994 rows x 9 columns]"
      ]
     },
     "execution_count": 108,
     "metadata": {},
     "output_type": "execute_result"
    }
   ],
   "source": [
    "clients"
   ]
  },
  {
   "cell_type": "code",
   "execution_count": 86,
   "metadata": {},
   "outputs": [
    {
     "data": {
      "text/plain": [
       "<AxesSubplot:xlabel='churned', ylabel='lifetime_value'>"
      ]
     },
     "execution_count": 86,
     "metadata": {},
     "output_type": "execute_result"
    },
    {
     "data": {
      "image/png": "[encoded data removed]",
      "text/plain": [
       "<Figure size 432x288 with 1 Axes>"
      ]
     },
     "metadata": {
      "needs_background": "light"
     },
     "output_type": "display_data"
    }
   ],
   "source": [
    "sns.boxplot(data=clients, y=\"lifetime_value\", x=\"churned\")"
   ]
  },
  {
   "cell_type": "code",
   "execution_count": 87,
   "metadata": {},
   "outputs": [
    {
     "data": {
      "text/plain": [
       "<AxesSubplot:xlabel='churned', ylabel='lifetime_value'>"
      ]
     },
     "execution_count": 87,
     "metadata": {},
     "output_type": "execute_result"
    },
    {
     "data": {
      "image/png": "[encoded data removed]",
      "text/plain": [
       "<Figure size 432x288 with 1 Axes>"
      ]
     },
     "metadata": {
      "needs_background": "light"
     },
     "output_type": "display_data"
    }
   ],
   "source": [
    "sns.boxplot(data=clients[clients.lifetime_value<10**5], y=\"lifetime_value\", x=\"churned\")"
   ]
  },
  {
   "cell_type": "code",
   "execution_count": 88,
   "metadata": {},
   "outputs": [
    {
     "data": {
      "text/plain": [
       "<AxesSubplot:xlabel='churned', ylabel='max_delay'>"
      ]
     },
     "execution_count": 88,
     "metadata": {},
     "output_type": "execute_result"
    },
    {
     "data": {
      "image/png": "[encoded data removed]",
      "text/plain": [
       "<Figure size 432x288 with 1 Axes>"
      ]
     },
     "metadata": {
      "needs_background": "light"
     },
     "output_type": "display_data"
    }
   ],
   "source": [
    "sns.boxplot(data=clients, y=\"max_delay\", x=\"churned\")"
   ]
  },
  {
   "cell_type": "code",
   "execution_count": 89,
   "metadata": {},
   "outputs": [
    {
     "data": {
      "text/plain": [
       "0.049776007964161276"
      ]
     },
     "execution_count": 89,
     "metadata": {},
     "output_type": "execute_result"
    }
   ],
   "source": [
    "clients.churned.mean()"
   ]
  },
  {
   "cell_type": "code",
   "execution_count": 106,
   "metadata": {},
   "outputs": [
    {
     "data": {
      "text/plain": [
       "False"
      ]
     },
     "execution_count": 106,
     "metadata": {},
     "output_type": "execute_result"
    }
   ],
   "source": [
    "np.all(np.isfinite(clients))"
   ]
  },
  {
   "cell_type": "markdown",
   "metadata": {},
   "source": [
    "## 3. Churn prediction model"
   ]
  },
  {
   "cell_type": "code",
   "execution_count": 110,
   "metadata": {},
   "outputs": [],
   "source": [
    "X = clients.set_index(\"client_id\").drop(columns=[\"churned\"])\n",
    "y = clients.set_index(\"client_id\").loc[:,[\"churned\"]]\n",
    "X_train, X_test, y_train, y_test = train_test_split(X, y, test_size=0.20)"
   ]
  },
  {
   "cell_type": "code",
   "execution_count": 111,
   "metadata": {},
   "outputs": [
    {
     "name": "stdout",
     "output_type": "stream",
     "text": [
      "(12795, 7)\n",
      "(3199, 7)\n"
     ]
    }
   ],
   "source": [
    "print(X_train.shape)\n",
    "print(X_test.shape)"
   ]
  },
  {
   "cell_type": "code",
   "execution_count": 114,
   "metadata": {},
   "outputs": [],
   "source": [
    "scaler = StandardScaler()\n",
    "X_train = scaler.fit_transform(X_train)\n",
    "X_test = scaler.transform(X_test)"
   ]
  },
  {
   "cell_type": "code",
   "execution_count": 116,
   "metadata": {},
   "outputs": [
    {
     "data": {
      "text/plain": [
       "array([[-7.54230696e-01,  3.84064912e-01,  1.11345485e-01, ...,\n",
       "        -3.11565541e-01, -4.78567740e-01,  1.07042390e-03],\n",
       "       [ 4.62361817e-01, -1.44196800e-01, -3.09512016e-01, ...,\n",
       "        -5.11569718e-01, -2.76560993e-01,  1.07042390e-03],\n",
       "       [-1.11792848e+00, -5.69740956e-01, -3.81522958e-01, ...,\n",
       "         1.51204134e+00, -6.08156973e-01,  1.07042390e-03],\n",
       "       ...,\n",
       "       [ 8.98486975e-01, -3.78979783e-01, -1.62868861e-01, ...,\n",
       "        -1.94251712e-01,  4.66671375e-01,  1.07042390e-03],\n",
       "       [-1.15496213e-01, -5.69740956e-01, -4.83957821e-01, ...,\n",
       "        -2.39752860e-01, -1.27516038e+00,  1.07042390e-03],\n",
       "       [-1.59057951e+00, -3.34957973e-01, -4.17373821e-01, ...,\n",
       "         4.28932012e-01,  2.57041732e-01,  1.07042390e-03]])"
      ]
     },
     "execution_count": 116,
     "metadata": {},
     "output_type": "execute_result"
    }
   ],
   "source": [
    "X_test"
   ]
  },
  {
   "cell_type": "code",
   "execution_count": 117,
   "metadata": {},
   "outputs": [
    {
     "data": {
      "text/plain": [
       "GradientBoostingClassifier()"
      ]
     },
     "execution_count": 117,
     "metadata": {},
     "output_type": "execute_result"
    }
   ],
   "source": [
    "model = GradientBoostingClassifier()\n",
    "model.fit(X_train, y_train)"
   ]
  },
  {
   "cell_type": "code",
   "execution_count": 118,
   "metadata": {},
   "outputs": [
    {
     "data": {
      "text/plain": [
       "0.9756173804313848"
      ]
     },
     "execution_count": 118,
     "metadata": {},
     "output_type": "execute_result"
    }
   ],
   "source": [
    "model.score(X_test, y_test)"
   ]
  },
  {
   "cell_type": "code",
   "execution_count": 120,
   "metadata": {},
   "outputs": [
    {
     "data": {
      "text/plain": [
       "array([0, 0, 0, ..., 0, 0, 0])"
      ]
     },
     "execution_count": 120,
     "metadata": {},
     "output_type": "execute_result"
    }
   ],
   "source": [
    "y_pred = model.predict(X_test)\n",
    "y_pred"
   ]
  },
  {
   "cell_type": "code",
   "execution_count": 125,
   "metadata": {},
   "outputs": [
    {
     "data": {
      "text/plain": [
       "<AxesSubplot:>"
      ]
     },
     "execution_count": 125,
     "metadata": {},
     "output_type": "execute_result"
    },
    {
     "data": {
      "image/png": "[encoded data removed]",
      "text/plain": [
       "<Figure size 432x288 with 2 Axes>"
      ]
     },
     "metadata": {
      "needs_background": "light"
     },
     "output_type": "display_data"
    }
   ],
   "source": [
    "sns.heatmap(confusion_matrix(y_pred, y_test, normalize = 'all'),annot = True)"
   ]
  },
  {
   "cell_type": "code",
   "execution_count": 126,
   "metadata": {},
   "outputs": [
    {
     "data": {
      "text/plain": [
       "<AxesSubplot:>"
      ]
     },
     "execution_count": 126,
     "metadata": {},
     "output_type": "execute_result"
    },
    {
     "data": {
      "image/png": "[encoded data removed]",
      "text/plain": [
       "<Figure size 432x288 with 2 Axes>"
      ]
     },
     "metadata": {
      "needs_background": "light"
     },
     "output_type": "display_data"
    }
   ],
   "source": [
    "sns.heatmap(confusion_matrix(y_test, y_pred),annot = True)"
   ]
  },
  {
   "cell_type": "code",
   "execution_count": null,
   "metadata": {},
   "outputs": [],
   "source": []
  }
 ],
 "metadata": {
  "kernelspec": {
   "display_name": "env_cu",
   "language": "python",
   "name": "env_cu"
  },
  "language_info": {
   "codemirror_mode": {
    "name": "ipython",
    "version": 3
   },
   "file_extension": ".py",
   "mimetype": "text/x-python",
   "name": "python",
   "nbconvert_exporter": "python",
   "pygments_lexer": "ipython3",
   "version": "3.8.10"
  }
 },
 "nbformat": 4,
 "nbformat_minor": 2
}
