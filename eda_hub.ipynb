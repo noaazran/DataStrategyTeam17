{
 "cells": [
  {
   "cell_type": "markdown",
   "id": "b83b4275",
   "metadata": {},
   "source": [
    "## Packages"
   ]
  },
  {
   "cell_type": "code",
   "execution_count": 1,
   "id": "67ece8f7",
   "metadata": {},
   "outputs": [],
   "source": [
    "import numpy as np\n",
    "import pandas as pd\n",
    "import datetime as dt"
   ]
  },
  {
   "cell_type": "code",
   "execution_count": 2,
   "id": "07be8d18",
   "metadata": {},
   "outputs": [],
   "source": [
    "from src.preprocessing import add_features"
   ]
  },
  {
   "cell_type": "markdown",
   "id": "3ae7b3fb",
   "metadata": {},
   "source": [
    "## Loading data"
   ]
  },
  {
   "cell_type": "code",
   "execution_count": 6,
   "id": "5e5ae0c0",
   "metadata": {},
   "outputs": [],
   "source": [
    "datatypes = {\n",
    "    'product_id': 'uint32',\n",
    "    'client_id': 'uint32',\n",
    "    'sales_net': 'float64',\n",
    "    'quantity': 'uint8',\n",
    "    'order_channel': 'object',\n",
    "    'branch_id': 'uint16'\n",
    "}"
   ]
  },
  {
   "cell_type": "code",
   "execution_count": 7,
   "id": "80d06d88",
   "metadata": {},
   "outputs": [],
   "source": [
    "df = pd.read_csv('data/transactions_dataset.csv', dtype=datatypes, sep=';')"
   ]
  },
  {
   "cell_type": "code",
   "execution_count": 8,
   "id": "a53f87de",
   "metadata": {},
   "outputs": [
    {
     "name": "stdout",
     "output_type": "stream",
     "text": [
      "<class 'pandas.core.frame.DataFrame'>\n",
      "RangeIndex: 63319315 entries, 0 to 63319314\n",
      "Data columns (total 8 columns):\n",
      " #   Column         Dtype  \n",
      "---  ------         -----  \n",
      " 0   date_order     object \n",
      " 1   date_invoice   object \n",
      " 2   product_id     uint32 \n",
      " 3   client_id      uint32 \n",
      " 4   sales_net      float64\n",
      " 5   quantity       uint8  \n",
      " 6   order_channel  object \n",
      " 7   branch_id      uint16 \n",
      "dtypes: float64(1), object(3), uint16(1), uint32(2), uint8(1)\n",
      "memory usage: 2.5+ GB\n"
     ]
    }
   ],
   "source": [
    "df.info()"
   ]
  },
  {
   "cell_type": "code",
   "execution_count": 9,
   "id": "ef5b4f0d",
   "metadata": {},
   "outputs": [
    {
     "data": {
      "text/html": [
       "<div>\n",
       "<style scoped>\n",
       "    .dataframe tbody tr th:only-of-type {\n",
       "        vertical-align: middle;\n",
       "    }\n",
       "\n",
       "    .dataframe tbody tr th {\n",
       "        vertical-align: top;\n",
       "    }\n",
       "\n",
       "    .dataframe thead th {\n",
       "        text-align: right;\n",
       "    }\n",
       "</style>\n",
       "<table border=\"1\" class=\"dataframe\">\n",
       "  <thead>\n",
       "    <tr style=\"text-align: right;\">\n",
       "      <th></th>\n",
       "      <th>date_order</th>\n",
       "      <th>date_invoice</th>\n",
       "      <th>product_id</th>\n",
       "      <th>client_id</th>\n",
       "      <th>sales_net</th>\n",
       "      <th>quantity</th>\n",
       "      <th>order_channel</th>\n",
       "      <th>branch_id</th>\n",
       "    </tr>\n",
       "  </thead>\n",
       "  <tbody>\n",
       "    <tr>\n",
       "      <th>0</th>\n",
       "      <td>2017-09-25</td>\n",
       "      <td>2017-09-25</td>\n",
       "      <td>2376333</td>\n",
       "      <td>188502</td>\n",
       "      <td>155.44320</td>\n",
       "      <td>3</td>\n",
       "      <td>online</td>\n",
       "      <td>2732</td>\n",
       "    </tr>\n",
       "    <tr>\n",
       "      <th>1</th>\n",
       "      <td>2017-09-25</td>\n",
       "      <td>2017-09-25</td>\n",
       "      <td>2520527</td>\n",
       "      <td>835089</td>\n",
       "      <td>16.39440</td>\n",
       "      <td>3</td>\n",
       "      <td>at the store</td>\n",
       "      <td>10279</td>\n",
       "    </tr>\n",
       "    <tr>\n",
       "      <th>2</th>\n",
       "      <td>2017-09-25</td>\n",
       "      <td>2017-09-25</td>\n",
       "      <td>2536756</td>\n",
       "      <td>1977896</td>\n",
       "      <td>365.76624</td>\n",
       "      <td>21</td>\n",
       "      <td>online</td>\n",
       "      <td>6184</td>\n",
       "    </tr>\n",
       "    <tr>\n",
       "      <th>3</th>\n",
       "      <td>2017-09-25</td>\n",
       "      <td>2017-09-25</td>\n",
       "      <td>3028673</td>\n",
       "      <td>598816</td>\n",
       "      <td>8.59878</td>\n",
       "      <td>201</td>\n",
       "      <td>at the store</td>\n",
       "      <td>4200</td>\n",
       "    </tr>\n",
       "    <tr>\n",
       "      <th>4</th>\n",
       "      <td>2017-09-25</td>\n",
       "      <td>2017-09-25</td>\n",
       "      <td>203377</td>\n",
       "      <td>2086861</td>\n",
       "      <td>1093.37400</td>\n",
       "      <td>3</td>\n",
       "      <td>by phone</td>\n",
       "      <td>7051</td>\n",
       "    </tr>\n",
       "  </tbody>\n",
       "</table>\n",
       "</div>"
      ],
      "text/plain": [
       "   date_order date_invoice  product_id  client_id   sales_net  quantity  \\\n",
       "0  2017-09-25   2017-09-25     2376333     188502   155.44320         3   \n",
       "1  2017-09-25   2017-09-25     2520527     835089    16.39440         3   \n",
       "2  2017-09-25   2017-09-25     2536756    1977896   365.76624        21   \n",
       "3  2017-09-25   2017-09-25     3028673     598816     8.59878       201   \n",
       "4  2017-09-25   2017-09-25      203377    2086861  1093.37400         3   \n",
       "\n",
       "  order_channel  branch_id  \n",
       "0        online       2732  \n",
       "1  at the store      10279  \n",
       "2        online       6184  \n",
       "3  at the store       4200  \n",
       "4      by phone       7051  "
      ]
     },
     "execution_count": 9,
     "metadata": {},
     "output_type": "execute_result"
    }
   ],
   "source": [
    "df.head()"
   ]
  },
  {
   "cell_type": "markdown",
   "id": "9e242d91",
   "metadata": {},
   "source": [
    "## Preprocessing"
   ]
  },
  {
   "cell_type": "code",
   "execution_count": 10,
   "id": "97e99655",
   "metadata": {},
   "outputs": [],
   "source": [
    "def dates_preprocessing(df): \n",
    "    df['date_order'] = pd.to_datetime(df['date_order'], format='%Y-%m-%d')\n",
    "    df['date_invoice'] = pd.to_datetime(df['date_invoice'], format='%Y-%m-%d')\n",
    "    return df"
   ]
  },
  {
   "cell_type": "code",
   "execution_count": 12,
   "id": "febb215a",
   "metadata": {},
   "outputs": [],
   "source": [
    "def order_channel_preprocessing(df):\n",
    "    df.order_channel = df.order_channel.astype('category')\n",
    "    return df\n"
   ]
  },
  {
   "cell_type": "code",
   "execution_count": 15,
   "id": "d412e1a7",
   "metadata": {},
   "outputs": [],
   "source": [
    "def add_features(df):\n",
    "    # Add unit sale price\n",
    "    df[\"unit_price\"] = df[\"sales_net\"] / df[\"quantity\"]\n",
    "    df.unit_price = df.unit_price.astype('int8')\n",
    "    \n",
    "    # Add flow : 1 means it is a purchase (increased stock), -1 it is a sale\n",
    "    profitable_transactions = df['sales_net'] >= 0\n",
    "    unprofitable_transactions = df['sales_net'] < 0\n",
    "    df[\"stock_flow\"] = 0\n",
    "    df.loc[profitable_transactions, 'stock_flow'] = 1\n",
    "    df.loc[unprofitable_transactions, 'stock_flow'] = -1\n",
    "    df.stock_flow = df.stock_flow.astype('int8')\n",
    "    \n",
    "    df[\"quantity\"] = df[\"quantity\"] * df[\"stock_flow\"]\n",
    "    df.quantity = df.quantity.astype('int32')\n",
    "    \n",
    "    # Date features\n",
    "    df[\"month_order\"] = df[\"date_order\"].dt.month\n",
    "    df[\"order_invoice_delta\"] = (df[\"date_invoice\"] - df[\"date_order\"]).dt.days\n",
    "    return df"
   ]
  }
 ],
 "metadata": {
  "kernelspec": {
   "display_name": "Python 3 (ipykernel)",
   "language": "python",
   "name": "python3"
  },
  "language_info": {
   "codemirror_mode": {
    "name": "ipython",
    "version": 3
   },
   "file_extension": ".py",
   "mimetype": "text/x-python",
   "name": "python",
   "nbconvert_exporter": "python",
   "pygments_lexer": "ipython3",
   "version": "3.9.7"
  }
 },
 "nbformat": 4,
 "nbformat_minor": 5
}
