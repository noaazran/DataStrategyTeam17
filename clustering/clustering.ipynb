{
 "cells": [
  {
   "cell_type": "markdown",
   "metadata": {},
   "source": [
    "## Packages"
   ]
  },
  {
   "cell_type": "code",
   "execution_count": 25,
   "metadata": {},
   "outputs": [],
   "source": [
    "import os\n",
    "import numpy as np\n",
    "import pandas as pd\n",
    "from scipy.stats import mode\n",
    "\n",
    "from sklearn.cluster import KMeans\n",
    "\n",
    "import matplotlib.pyplot as plt\n",
    "import seaborn as sns"
   ]
  },
  {
   "cell_type": "code",
   "execution_count": 3,
   "metadata": {},
   "outputs": [],
   "source": [
    "from src.clustering import *"
   ]
  },
  {
   "cell_type": "markdown",
   "metadata": {},
   "source": [
    "## Data loading"
   ]
  },
  {
   "cell_type": "code",
   "execution_count": 12,
   "metadata": {},
   "outputs": [],
   "source": [
    "datatypes = {\n",
    "    'product_id': 'uint32',\n",
    "    'client_id': 'uint32',\n",
    "    'sales_net': 'float64',\n",
    "    'quantity': 'int32',\n",
    "    'order_channel': 'object',\n",
    "    'branch_id': 'uint16',\n",
    "    'unit_price': 'int8',\n",
    "    'stock_flow': 'int8',\n",
    "    'month_order': 'uint8',\n",
    "    'order_invoice_delta': 'float16'\n",
    "}"
   ]
  },
  {
   "cell_type": "code",
   "execution_count": 13,
   "metadata": {},
   "outputs": [
    {
     "name": "stdout",
     "output_type": "stream",
     "text": [
      "True\n"
     ]
    }
   ],
   "source": [
    "df = load_preprocessed_data(datatypes)\n",
    "print(df.shape[0] == 63319315)"
   ]
  },
  {
   "cell_type": "code",
   "execution_count": 14,
   "metadata": {},
   "outputs": [
    {
     "name": "stdout",
     "output_type": "stream",
     "text": [
      "<class 'pandas.core.frame.DataFrame'>\n",
      "RangeIndex: 63319315 entries, 0 to 63319314\n",
      "Data columns (total 10 columns):\n",
      " #   Column               Dtype  \n",
      "---  ------               -----  \n",
      " 0   product_id           uint32 \n",
      " 1   client_id            uint32 \n",
      " 2   sales_net            float64\n",
      " 3   quantity             int32  \n",
      " 4   order_channel        object \n",
      " 5   branch_id            uint16 \n",
      " 6   unit_price           int8   \n",
      " 7   stock_flow           int8   \n",
      " 8   month_order          uint8  \n",
      " 9   order_invoice_delta  float16\n",
      "dtypes: float16(1), float64(1), int32(1), int8(2), object(1), uint16(1), uint32(2), uint8(1)\n",
      "memory usage: 2.1+ GB\n"
     ]
    }
   ],
   "source": [
    "df.info()"
   ]
  },
  {
   "cell_type": "markdown",
   "metadata": {},
   "source": [
    "## Clustering"
   ]
  },
  {
   "cell_type": "code",
   "execution_count": 15,
   "metadata": {},
   "outputs": [],
   "source": [
    "df = categorical_encoding(df)"
   ]
  },
  {
   "cell_type": "code",
   "execution_count": 16,
   "metadata": {},
   "outputs": [],
   "source": [
    "df.dropna(inplace=True)"
   ]
  },
  {
   "cell_type": "markdown",
   "metadata": {},
   "source": [
    "## Clients clustering"
   ]
  },
  {
   "cell_type": "code",
   "execution_count": 17,
   "metadata": {},
   "outputs": [],
   "source": [
    "df_clients = df.drop(columns='product_id').groupby(by='client_id').agg(\n",
    "                sales_sum=('sales_net', 'sum'),\n",
    "                quantity_mean=('quantity', 'mean'),\n",
    "                order_channel_mode=('order_channel', lambda x: mode(x)[0]),\n",
    "                branch_id_mode=('branch_id', lambda x: mode(x)[0]),\n",
    "                unit_price_mean=('unit_price', 'mean'),\n",
    "                stock_flow_mode=('stock_flow', lambda x: mode(x)[0]),\n",
    "                month_order_mode=('month_order', lambda x: mode(x)[0]),\n",
    "                order_invoice_delta_mean=('order_invoice_delta', 'mean')\n",
    "    )"
   ]
  },
  {
   "cell_type": "code",
   "execution_count": 18,
   "metadata": {},
   "outputs": [
    {
     "data": {
      "text/html": [
       "<div>\n",
       "<style scoped>\n",
       "    .dataframe tbody tr th:only-of-type {\n",
       "        vertical-align: middle;\n",
       "    }\n",
       "\n",
       "    .dataframe tbody tr th {\n",
       "        vertical-align: top;\n",
       "    }\n",
       "\n",
       "    .dataframe thead th {\n",
       "        text-align: right;\n",
       "    }\n",
       "</style>\n",
       "<table border=\"1\" class=\"dataframe\">\n",
       "  <thead>\n",
       "    <tr style=\"text-align: right;\">\n",
       "      <th></th>\n",
       "      <th>sales_sum</th>\n",
       "      <th>quantity_mean</th>\n",
       "      <th>order_channel_mode</th>\n",
       "      <th>branch_id_mode</th>\n",
       "      <th>unit_price_mean</th>\n",
       "      <th>stock_flow_mode</th>\n",
       "      <th>month_order_mode</th>\n",
       "      <th>order_invoice_delta_mean</th>\n",
       "    </tr>\n",
       "    <tr>\n",
       "      <th>client_id</th>\n",
       "      <th></th>\n",
       "      <th></th>\n",
       "      <th></th>\n",
       "      <th></th>\n",
       "      <th></th>\n",
       "      <th></th>\n",
       "      <th></th>\n",
       "      <th></th>\n",
       "    </tr>\n",
       "  </thead>\n",
       "  <tbody>\n",
       "    <tr>\n",
       "      <th>6</th>\n",
       "      <td>5.882233e+03</td>\n",
       "      <td>37.550000</td>\n",
       "      <td>1</td>\n",
       "      <td>8470</td>\n",
       "      <td>8.925000</td>\n",
       "      <td>1</td>\n",
       "      <td>7</td>\n",
       "      <td>0.000000</td>\n",
       "    </tr>\n",
       "    <tr>\n",
       "      <th>7</th>\n",
       "      <td>1.190777e+03</td>\n",
       "      <td>6.600000</td>\n",
       "      <td>0</td>\n",
       "      <td>7453</td>\n",
       "      <td>13.800000</td>\n",
       "      <td>1</td>\n",
       "      <td>12</td>\n",
       "      <td>0.000000</td>\n",
       "    </tr>\n",
       "    <tr>\n",
       "      <th>14</th>\n",
       "      <td>3.103187e+06</td>\n",
       "      <td>35.212192</td>\n",
       "      <td>1</td>\n",
       "      <td>10319</td>\n",
       "      <td>13.864285</td>\n",
       "      <td>1</td>\n",
       "      <td>7</td>\n",
       "      <td>2.964844</td>\n",
       "    </tr>\n",
       "    <tr>\n",
       "      <th>18</th>\n",
       "      <td>2.194882e+05</td>\n",
       "      <td>25.929856</td>\n",
       "      <td>0</td>\n",
       "      <td>6654</td>\n",
       "      <td>7.920414</td>\n",
       "      <td>1</td>\n",
       "      <td>1</td>\n",
       "      <td>5.476562</td>\n",
       "    </tr>\n",
       "    <tr>\n",
       "      <th>25</th>\n",
       "      <td>3.745861e+02</td>\n",
       "      <td>27.000000</td>\n",
       "      <td>0</td>\n",
       "      <td>2876</td>\n",
       "      <td>13.500000</td>\n",
       "      <td>1</td>\n",
       "      <td>10</td>\n",
       "      <td>0.000000</td>\n",
       "    </tr>\n",
       "  </tbody>\n",
       "</table>\n",
       "</div>"
      ],
      "text/plain": [
       "              sales_sum  quantity_mean  order_channel_mode  branch_id_mode  \\\n",
       "client_id                                                                    \n",
       "6          5.882233e+03      37.550000                   1            8470   \n",
       "7          1.190777e+03       6.600000                   0            7453   \n",
       "14         3.103187e+06      35.212192                   1           10319   \n",
       "18         2.194882e+05      25.929856                   0            6654   \n",
       "25         3.745861e+02      27.000000                   0            2876   \n",
       "\n",
       "           unit_price_mean  stock_flow_mode  month_order_mode  \\\n",
       "client_id                                                       \n",
       "6                 8.925000                1                 7   \n",
       "7                13.800000                1                12   \n",
       "14               13.864285                1                 7   \n",
       "18                7.920414                1                 1   \n",
       "25               13.500000                1                10   \n",
       "\n",
       "           order_invoice_delta_mean  \n",
       "client_id                            \n",
       "6                          0.000000  \n",
       "7                          0.000000  \n",
       "14                         2.964844  \n",
       "18                         5.476562  \n",
       "25                         0.000000  "
      ]
     },
     "execution_count": 18,
     "metadata": {},
     "output_type": "execute_result"
    }
   ],
   "source": [
    "df_clients.head()"
   ]
  },
  {
   "cell_type": "code",
   "execution_count": 19,
   "metadata": {},
   "outputs": [
    {
     "data": {
      "text/plain": [
       "KMeans(init='random', max_iter=750, n_clusters=4, random_state=0)"
      ]
     },
     "execution_count": 19,
     "metadata": {},
     "output_type": "execute_result"
    }
   ],
   "source": [
    "kmeans_kwargs = {\n",
    "        \"init\": \"random\",\n",
    "        \"n_init\": 10,\n",
    "        \"max_iter\": 750,\n",
    "        \"random_state\": 0\n",
    "    }\n",
    "\n",
    "kmeans = KMeans(n_clusters=4, **kmeans_kwargs)\n",
    "kmeans.fit(df_clients)"
   ]
  },
  {
   "cell_type": "code",
   "execution_count": 21,
   "metadata": {},
   "outputs": [],
   "source": [
    "df_kmeans = pd.DataFrame(kmeans.transform(df_clients))\n",
    "df_kmeans.columns = [str(i) for i in range(4)]\n",
    "df_kmeans['cluster'] = kmeans.predict(df_clients)"
   ]
  },
  {
   "cell_type": "code",
   "execution_count": 38,
   "metadata": {},
   "outputs": [],
   "source": [
    "df_clients['cluster'] = df_kmeans['cluster']\n",
    "# df_clients['cluster'] = df_clients['cluster'].astype('category')"
   ]
  },
  {
   "cell_type": "code",
   "execution_count": 29,
   "metadata": {},
   "outputs": [
    {
     "data": {
      "text/plain": [
       "3.0    12389\n",
       "0.0      336\n",
       "1.0       32\n",
       "2.0        2\n",
       "Name: cluster, dtype: int64"
      ]
     },
     "execution_count": 29,
     "metadata": {},
     "output_type": "execute_result"
    }
   ],
   "source": [
    "df_clients['cluster'].value_counts()"
   ]
  },
  {
   "cell_type": "code",
   "execution_count": 39,
   "metadata": {},
   "outputs": [
    {
     "data": {
      "image/png": "[encoded data removed]",
      "text/plain": [
       "<Figure size 720x360 with 1 Axes>"
      ]
     },
     "metadata": {
      "needs_background": "light"
     },
     "output_type": "display_data"
    }
   ],
   "source": [
    "plt.figure(figsize=(10, 5))\n",
    "sns.histplot(data=df_clients, x='cluster')\n",
    "plt.title('Distribution of clients by cluster', fontsize=25)\n",
    "plt.xlabel('Clusters', fontsize=15)\n",
    "plt.ylabel('Count', fontsize=15)\n",
    "plt.show()"
   ]
  },
  {
   "cell_type": "code",
   "execution_count": 41,
   "metadata": {},
   "outputs": [
    {
     "data": {
      "text/plain": [
       "Index(['sales_sum', 'quantity_mean', 'order_channel_mode', 'branch_id_mode',\n",
       "       'unit_price_mean', 'stock_flow_mode', 'month_order_mode',\n",
       "       'order_invoice_delta_mean', 'cluster'],\n",
       "      dtype='object')"
      ]
     },
     "execution_count": 41,
     "metadata": {},
     "output_type": "execute_result"
    }
   ],
   "source": [
    "df_clients.columns"
   ]
  },
  {
   "cell_type": "code",
   "execution_count": 43,
   "metadata": {},
   "outputs": [
    {
     "data": {
      "text/plain": [
       "cluster\n",
       "0.0    6.488281\n",
       "1.0    3.400391\n",
       "2.0    0.190552\n",
       "3.0    5.324219\n",
       "Name: order_invoice_delta_mean, dtype: float16"
      ]
     },
     "execution_count": 43,
     "metadata": {},
     "output_type": "execute_result"
    }
   ],
   "source": [
    "df_clients.groupby(by='cluster')['order_invoice_delta_mean'].mean()"
   ]
  },
  {
   "cell_type": "code",
   "execution_count": 45,
   "metadata": {},
   "outputs": [
    {
     "data": {
      "text/plain": [
       "cluster\n",
       "0.0    [8]\n",
       "1.0    [7]\n",
       "2.0    [1]\n",
       "3.0    [8]\n",
       "Name: month_order_mode, dtype: object"
      ]
     },
     "execution_count": 45,
     "metadata": {},
     "output_type": "execute_result"
    }
   ],
   "source": [
    "df_clients.groupby(by='cluster')['month_order_mode'].apply(lambda x: mode(x)[0])"
   ]
  },
  {
   "cell_type": "code",
   "execution_count": 46,
   "metadata": {},
   "outputs": [
    {
     "data": {
      "text/plain": [
       "cluster\n",
       "0.0    [0]\n",
       "1.0    [0]\n",
       "2.0    [0]\n",
       "3.0    [0]\n",
       "Name: order_channel_mode, dtype: object"
      ]
     },
     "execution_count": 46,
     "metadata": {},
     "output_type": "execute_result"
    }
   ],
   "source": [
    "df_clients.groupby(by='cluster')['order_channel_mode'].apply(lambda x: mode(x)[0])"
   ]
  },
  {
   "cell_type": "code",
   "execution_count": 40,
   "metadata": {},
   "outputs": [
    {
     "data": {
      "image/png": "[encoded data removed]",
      "text/plain": [
       "<Figure size 720x360 with 1 Axes>"
      ]
     },
     "metadata": {
      "needs_background": "light"
     },
     "output_type": "display_data"
    }
   ],
   "source": [
    "df_clients.groupby(by='cluster')['sales_sum'].mean()"
   ]
  },
  {
   "cell_type": "code",
   "execution_count": null,
   "metadata": {},
   "outputs": [],
   "source": []
  }
 ],
 "metadata": {
  "interpreter": {
   "hash": "6b4ef7759bf5416c228daac630c4fe41a797d6552d8bf6195593ed72415e0adf"
  },
  "kernelspec": {
   "display_name": "Python 3.9.7 ('eleven')",
   "language": "python",
   "name": "python3"
  },
  "language_info": {
   "codemirror_mode": {
    "name": "ipython",
    "version": 3
   },
   "file_extension": ".py",
   "mimetype": "text/x-python",
   "name": "python",
   "nbconvert_exporter": "python",
   "pygments_lexer": "ipython3",
   "version": "3.9.7"
  },
  "orig_nbformat": 4
 },
 "nbformat": 4,
 "nbformat_minor": 2
}
